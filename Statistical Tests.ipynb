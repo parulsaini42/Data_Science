{
 "cells": [
  {
   "cell_type": "markdown",
   "id": "3109e81f",
   "metadata": {},
   "source": [
    "# Statistical Tests\n",
    "\n",
    "### Hypothesis testing \n",
    "\n",
    "It is a common statistical tool to support the certainty of findings. The aim of testing is to answer how probable an apparent effect is detected by chance given a random data sample. In hypothesis testing, two mutually exclusive statements about a parameter or population (hypotheses) are evaluated to decide which statement is best supported by sample data.\n",
    "\n",
    "- Parametric tests, the population is assumed to have a normal distribution\n",
    "\n",
    "- Non-parametric tests (also distribution-free tests) are used when parameters of a population cannot be assumed to be normally distributed."
   ]
  },
  {
   "cell_type": "markdown",
   "id": "1c027e53",
   "metadata": {},
   "source": [
    "    Hypothesis 1: Average order value has increased since last financial year\n",
    "\n",
    "    Parameter: Mean order value\n",
    "\n",
    "    Test type: one-sample, parametric test (assuming the order value follows a normal distribution)\n",
    "\n",
    "In a one-sample test, a sample (average order value this year) is compared to a known value (average order value of last year)"
   ]
  },
  {
   "cell_type": "markdown",
   "id": "67091538",
   "metadata": {},
   "source": [
    "    Hypothesis 2: Investing in A brings a higher return than investing in B\n",
    "\n",
    "    Parameter: Difference in mean return\n",
    "\n",
    "    Test type: two-sample, parametric test, also AB test (assuming the return follows a normal distribution)\n",
    "    \n",
    "In a two-sample test, two samples (investment A and B) are compared to each other."
   ]
  },
  {
   "cell_type": "markdown",
   "id": "776d43a6",
   "metadata": {},
   "source": [
    "    Hypothesis 3: The new user interface converts more users into customers than the expected 30%\n",
    "\n",
    "    Parameter: none\n",
    "\n",
    "    Test type: one-sample, non-parametric test (assuming number of customers is not normally distributed)"
   ]
  },
  {
   "cell_type": "markdown",
   "id": "f321c763",
   "metadata": {},
   "source": [
    "### Steps of a hypothesis test\n",
    "\n",
    "#### 1. Null & Alternative hypothesis\n",
    "\n",
    "The null and alternative hypotheses are the two mutually exclusive statements about a parameter or population\n",
    "\n",
    "- The null hypothesis (often abbreviated as H0) claims that there is no effect or no difference.\n",
    "\n",
    "- The alternative hypothesis (often abbreviated as H1 or HA) is what you want to prove.\n",
    "eg.\n",
    "\n",
    "\n",
    "H0: There is no difference in the mean return from A and B, or the difference between A and B is zero.\n",
    "\n",
    "\n",
    "H1: There is a difference in the mean return from A and B or the difference between A and B > zero.\n",
    "\n",
    "The example hypotheses above describe a so-called two-tailed test. **In a two-tailed test, you are testing in both directions**, meaning it is tested whether the mean return from A is significantly greater and significantly less than the mean return from B.\n",
    "\n",
    "**In a one-tailed test, you are testing in one direction**, meaning it is tested either if the mean return from A is significantly greater or significantly less than the mean return from B. In this case, the alternative hypothesis would change to:\n",
    "\n",
    "H1: The mean return of A is greater than the mean return of B. OR\n",
    "\n",
    "H1: The mean return of A is lower than the mean return of B."
   ]
  },
  {
   "cell_type": "markdown",
   "id": "e9077000",
   "metadata": {},
   "source": [
    "### 2. Select a test statistic\n",
    "A test statistic is a numerical value calculated from a sample of data, often used in hypothesis testing. It serves as a basis for making decisions about whether to accept or reject a null hypothesis.\n",
    "\n",
    "In hypothesis testing, the test statistic measures the difference between the observed data and what would be expected under the null hypothesis. The selection of the test statistic is dependent on:\n",
    "\n",
    "- Parametric vs. non-parametric\n",
    "- Number of samples (one, two, multiple)\n",
    "- Discrete (e.g. number of customers) or continuous variable (e.g. order value)\n",
    "\n",
    "eg. t-test, z-test, or F-test, which all assume a normal distribution.\n",
    "\n",
    "\n",
    "The choice of test statistic depends on the hypothesis being tested and the nature of the data. Different statistical tests use different test statistics. For example:\n",
    "\n",
    "- In a t-test, the test statistic is the t-value, which measures the difference between the means of two groups relative to the variability within the groups.\n",
    "\n",
    "- In a chi-square test, the test statistic is the chi-square statistic, which measures the discrepancy between the observed and expected frequencies of categorical data.\n",
    "\n",
    "- In regression analysis, the test statistic can be the F-statistic, which tests the overall significance of the regression model, or the t-statistic for individual coefficients, which tests the significance of each predictor variable.\n",
    "\n",
    "\n",
    "Once the test statistic is calculated, it is compared to a critical value or p-value to determine whether the null hypothesis should be rejected. If the test statistic is sufficiently extreme (i.e., falls into the rejection region), the null hypothesis is rejected in favor of the alternative hypothesis. If the test statistic is not extreme enough, the null hypothesis is not rejected.\n"
   ]
  },
  {
   "cell_type": "markdown",
   "id": "b2b2f2e0",
   "metadata": {},
   "source": [
    "### 3. Select the significance level\n",
    "\n",
    "When testing hypotheses, we cannot always test it on the whole population but only on randomly selected data samples. Therefore we cannot assume 100% true conclusions\n",
    "\n",
    "There are two types of errors that we can make:\n",
    "\n",
    "- Type I error: Rejecting the null hypothesis when it is true. Alpha is prob of type 1 error. Lower value is preferred\n",
    "\n",
    "- Type II error: Accepting the null hypothesis when it is false. Beta (power of a test) is the probability of the type 2 error. The lower the beta, the higher the power. \n",
    "\n",
    "Therefore, commonly used significance (alpha) levels 0.01, 0.05, or 0.10"
   ]
  },
  {
   "cell_type": "markdown",
   "id": "61242454",
   "metadata": {},
   "source": [
    "### 4. Collect a random sample\n",
    "\n",
    "There are several formulas available that help finds the right sample size:\n",
    "\n",
    "Cochran sample size formula\n",
    "Slovins’s formula\n",
    "\n",
    "Moreover, some tests can be used with small sample sizes, like e.g., the t-test or non-parametric tests which generally need fewer sample sizes as they do not require a normal distribution."
   ]
  },
  {
   "cell_type": "markdown",
   "id": "53e4b8ad",
   "metadata": {},
   "source": [
    "### 5. Calculation of the test statistics and the p-value\n",
    "\n",
    "Once the data is collected, the chosen test statistic and the corresponding p-value can be calculated. \n",
    "\n",
    "\n",
    "#### p-value\n",
    "\n",
    "The p-value, or probability value, is a measure used in statistical hypothesis testing to determine the strength of evidence against the null hypothesis.\n",
    "\n",
    "Definition: The p-value represents the probability of obtaining test results at least as extreme as the ones observed in the sample, assuming that the null hypothesis is true.\n",
    "\n",
    "- A small p-value (typically less than 0.05) indicates that the observed data is unlikely to have occurred under the assumption that the null hypothesis is true. This suggests strong evidence against the null hypothesis, leading to its rejection.\n",
    "\n",
    "- A large p-value (greater than 0.05) suggests that the observed data is reasonably likely to occur under the null hypothesis. In this case, there is not enough evidence to reject the null hypothesis.\n",
    "\n",
    "Decision: \n",
    "\n",
    "- If the p-value is less than or equal to the chosen significance level (usually 0.05), the null hypothesis is rejected.\n",
    "\n",
    "- If the p-value is greater than the significance level, the null hypothesis is not rejected."
   ]
  },
  {
   "cell_type": "markdown",
   "id": "0eb9911e",
   "metadata": {},
   "source": [
    "####  References:\n",
    "\n",
    "1. https://www.stratascratch.com/blog/basic-types-of-statistical-tests-in-data-science/\n",
    "2. https://towardsdatascience.com/hypothesis-testing-for-data-scientists-everything-you-need-to-know-8c36ddde4cd2\n",
    "3. https://www.geeksforgeeks.org/kolmogorov-smirnov-test-ks-test/"
   ]
  }
 ],
 "metadata": {
  "kernelspec": {
   "display_name": "Python 3 (ipykernel)",
   "language": "python",
   "name": "python3"
  },
  "language_info": {
   "codemirror_mode": {
    "name": "ipython",
    "version": 3
   },
   "file_extension": ".py",
   "mimetype": "text/x-python",
   "name": "python",
   "nbconvert_exporter": "python",
   "pygments_lexer": "ipython3",
   "version": "3.9.10"
  }
 },
 "nbformat": 4,
 "nbformat_minor": 5
}
