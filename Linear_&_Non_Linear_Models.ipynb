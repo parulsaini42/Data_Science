{
  "nbformat": 4,
  "nbformat_minor": 0,
  "metadata": {
    "colab": {
      "provenance": []
    },
    "kernelspec": {
      "name": "python3",
      "display_name": "Python 3"
    },
    "language_info": {
      "name": "python"
    }
  },
  "cells": [
    {
      "cell_type": "markdown",
      "source": [
        "Whether this algorithm is the most suitable for certain problems depends on the given datasets and we need to understnad the underlying relationships.\n",
        "\n",
        "Performance of the respective can be determined by :\n",
        "\n",
        "  1. What is our specification of problem?\n",
        "  2. What are the characteristics of Data?\n",
        "  3. What is the purpose of analysis or prediction?\n",
        "\n",
        "All the algorithms for Machine Learning can be categorized into :\n",
        "\n",
        "  1. Supervised / Unsupervised\n",
        "  2. Linear / Non-Linear (parametric /non-parametric)\n",
        "\n",
        "\n",
        "Telling linear or non-linear can be easily detected by looking at the graph made from variable data.\n",
        "\n",
        "1. If the equation gives you a straight line, then it is a linear equation. eg. Linear regression relates two variables with a straight line\n",
        "2. If it gives you a curve, circle, parabola or any other conic for that matter, then it is a nonlinear equation. eg. nonlinear regression relates the variables using a curve\n",
        "\n",
        "# Linear models\n",
        "\n",
        "Linear regression model assumes a linear relationship between the variables, meaning that the dependent variable can be expressed as a linear combination of the independent variables(features).\n",
        "\n",
        "1. linear relationships between variables i.e a straight line between variables. (y =mx + b)\n",
        "2. Linear is always parametric, data are approximately normally distributed\n",
        "3. They provide a simple and interpretable way to understand the linear associations between variables and make predictions based on the learned patterns.\n",
        "4. The goal of a linear model is to find the **best-fitting line or hyperplane** that minimizes the difference between the predicted values and the actual values of the dependent variable (target variable).\n",
        "5. Estimation: OLS(Ordinary Least Squares for linear models"
      ],
      "metadata": {
        "id": "BgMymmz7_8dk"
      }
    },
    {
      "cell_type": "markdown",
      "source": [
        "linear relationship example\n",
        "\n",
        "![download (1).png](data:image/png;base64,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)"
      ],
      "metadata": {
        "id": "-Z4fFjERC35n"
      }
    },
    {
      "cell_type": "markdown",
      "source": [
        "\n",
        "# Non Linear Models\n",
        "\n",
        "The relation between dependent and indepenednt variables i non linear i.e depicted with curves, exponentials, logarithms.\n",
        "\n",
        "1. Non-linear models are particularly useful in fields such as physics, biology, finance, image processing, and machine learning, where the relationships between variables are often more complex and not easily captured by linear models.\n",
        "\n",
        "2. it can be challenging to estimate and interpret the analyzed data or output, compared to linear models.\n",
        "\n",
        "3. Estimation: more advanced techniques such as optimization algorithms and iterative methods for non-linear models\n",
        "\n",
        "Examples:\n",
        "1. Neural Networks: Neural networks are a class of non-linear models inspired by the structure and function of biological neurons."
      ],
      "metadata": {
        "id": "bVHwT5V3CeQM"
      }
    },
    {
      "cell_type": "markdown",
      "source": [
        "Equations depicting non linear relationships\n",
        "\n",
        "![download.png](data:image/png;base64,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)\n"
      ],
      "metadata": {
        "id": "UoQHKsJgDLHj"
      }
    },
    {
      "cell_type": "markdown",
      "source": [
        "How can the various ML models be classified;\n",
        "\n",
        "1. Linear Regression : linear model\n",
        "2. **Logistic Regression : considered as generalized linear model. Logistic regression is considered a generalized linear model because the outcome always depends on the sum of the inputs and parameters.**\n",
        "4. Random Forest : non-linear model\n",
        "5. KNN(K-Nearest Neighbors) : non linear model\n",
        "6. K-Means Clustering : linear model\n",
        "7. SVM(Support Vector Machine) : non-linear model\n",
        "8. **Naïve Bayes : linear and non-linear model but the former preferred**\n",
        "9. ANN(Artificial Neural Network) : non-linear model\n",
        "10. CNN(Convolutional Neural Network) : non-linear model\n",
        "\n"
      ],
      "metadata": {
        "id": "DTOsfcJdDjZy"
      }
    },
    {
      "cell_type": "markdown",
      "source": [
        "# Parametric models\n",
        "\n",
        "\n",
        "Parametric models:\n",
        "\n",
        "1. Assumptions about the underlying distribution of the population being studied like Probability distribution, such as the normal distribution, and estimate the parameters of this distribution using the available data.\n",
        "\n",
        "2. The basic idea behind the Parametric method is that there is a set of fixed parameters that are used to determine a probability model that is used in Machine Learning\n",
        "\n",
        "\n",
        "Parametric methods require several assumptions about the data:\n",
        "\n",
        "1. Normality: The data follows a normal (Gaussian) distribution.\n",
        "2. Homogeneity of variance: The variance of the population is the same across all groups.\n",
        "3. Independence: Observations are independent of each other.\n",
        "\n",
        "\n",
        "What are Parametric Methods?\n",
        "Statistical Tests **(test means)**:\n",
        "1. t-test: Tests for the difference between the means of two independent groups.\n",
        "2. ANOVA: Tests for the difference between the means of three or more groups.\n",
        "3. F-test: Compares the variances of two groups.\n",
        "4. Chi-square test: Tests for relationships between categorical variables.\n",
        "5. Correlation analysis: Measures the strength and direction of the linear relationship between two continuous variables.\n",
        "\n",
        "Machine Learning Models:\n",
        "1. Linear regression: Predicts a continuous outcome based on a linear relationship with one or more independent variables.\n",
        "2. Logistic regression: Predicts a binary outcome (e.g., yes/no) based on a set of independent variables.\n",
        "3. Naive Bayes: Classifies data points based on Bayes’ theorem and assuming independence between features.\n",
        "4. Hidden Markov Models: Models sequential data with hidden states and observable outputs.\n",
        "\n",
        "Advantages: Less data, powerful, estimates mean, variance etc\n",
        "\n",
        "Disadvantages: Less complex relationships can be depicted, less flexible (Probability distribution is fixed), sensitive to assumptions\n",
        "\n",
        "Applications of Parametric Methods\n",
        "\n",
        "1. Biostatistics: Comparing the effectiveness of different treatments.\n",
        "2. Social sciences: Investigating relationships between variables.\n",
        "3. Finance: Estimating risk and return of investments.\n",
        "4. Engineering: Analyzing the performance of systems."
      ],
      "metadata": {
        "id": "G5JrNMJcHECC"
      }
    },
    {
      "cell_type": "markdown",
      "source": [
        "# Nonparametric models\n",
        "\n",
        "Non parametric models:\n",
        "1. “Distribution-free” methods because they make no assumptions about the shape of the distribution.\n",
        "2. no fixed set of parameters are available, and also there is no distribution (normal distribution, etc.)\n",
        "\n",
        "Assumptions of Non-Parametric Methods\n",
        "\n",
        "1. Independence: Data points are independent and not influenced by others.\n",
        "2. Random Sampling: Data represents a random sample from the population.\n",
        "3. Homogeneity of Measurement: Measurements are consistent across all data points.\n",
        "\n",
        "What is Non-Parametric Methods?\n",
        "Statistical Tests **(test medians)**:\n",
        "1. Mann-Whitney U test: Tests for the difference between the medians of two independent groups.\n",
        "2. Kruskal-Wallis test: Tests for the difference between the medians of three or more groups.\n",
        "3. Spearman’s rank correlation: Measures the strength and direction of the monotonic relationship between two variables.\n",
        "4. Wilcoxon signed-rank test: Tests for the difference between the medians of two paired samples.\n",
        "\n",
        "Machine Learning Models (Non linear):\n",
        "1. K-Nearest Neighbors (KNN): Classifies data points based on the k nearest neighbors.\n",
        "2. Decision Trees: Makes classifications based on a series of yes/no questions about the features.\n",
        "3. Support Vector Machines (SVM): Creates a decision boundary that maximizes the margin between different classes.\n",
        "4. Neural networks: Can be designed with specific architectures to handle non-parametric data, such as convolutional neural networks for image data and recurrent neural networks for sequential data.\n",
        "\n",
        "Advantages: Robust to outliers, east to implement, applicable to wide variety of data as it is distribution free\n",
        "\n",
        "Disadvantages: Larger data, provide less info about the population (less statistical power), less powerful, slower computationally\n",
        "\n",
        "Applications of Non-Parametric Methods\n",
        "\n",
        "1. Medicine: Comparing the effectiveness of different treatments.\n",
        "2. Psychology: Investigating relationships between variables.\n",
        "3. Ecology: Analyzing environmental data.\n",
        "4. Computer science: Developing machine learning algorithms."
      ],
      "metadata": {
        "id": "r2M1aCmLJc1q"
      }
    },
    {
      "cell_type": "markdown",
      "source": [
        "References:\n",
        "1. https://medium.com/@mikyung.jin.94/data-science-day-4-what-is-linear-and-non-linear-model-6fc16afc634f\n",
        "2. https://www.datacamp.com/tutorial/introduction-to-non-linear-model-and-insights-using-r\n",
        "3. https://www.geeksforgeeks.org/difference-between-parametric-and-non-parametric-methods/"
      ],
      "metadata": {
        "id": "0kijn5p_AXYL"
      }
    }
  ]
}